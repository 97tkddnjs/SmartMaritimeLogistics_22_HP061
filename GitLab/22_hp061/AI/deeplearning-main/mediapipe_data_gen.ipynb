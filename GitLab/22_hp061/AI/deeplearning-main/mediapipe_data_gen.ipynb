{
 "cells": [
  {
   "cell_type": "code",
   "execution_count": 1,
   "metadata": {},
   "outputs": [],
   "source": [
    "import cv2\n",
    "import mediapipe as mp\n",
    "import numpy as np\n",
    "import pandas as pd\n",
    "from tqdm import tqdm\n",
    "mp_drawing = mp.solutions.drawing_utils\n",
    "mp_drawing_styles = mp.solutions.drawing_styles\n",
    "mp_pose = mp.solutions.pose\n"
   ]
  },
  {
   "cell_type": "code",
   "execution_count": 2,
   "metadata": {},
   "outputs": [],
   "source": [
    "def extract_keypoints(results):\n",
    "    pose = np.array([[res.x, res.y, res.z, res.visibility] for res in results.pose_landmarks.landmark]).flatten() if results.pose_landmarks else np.zeros(33*4)  \n",
    "    return pose\n",
    "\n",
    "def mediapipe_detection(image, model):\n",
    "    image = cv2.cvtColor(image, cv2.COLOR_BGR2RGB) # COLOR CONVERSION BGR 2 RGB\n",
    "    image.flags.writeable = False                  # Image is no longer writeable\n",
    "    \n",
    "    results = model.process(image)                 # Make prediction\n",
    "    image.flags.writeable = True                   # Image is now writeable \n",
    "    image = cv2.cvtColor(image, cv2.COLOR_RGB2BGR) # COLOR COVERSION RGB 2 BGR\n",
    "    return image, results"
   ]
  },
  {
   "cell_type": "code",
   "execution_count": 3,
   "metadata": {},
   "outputs": [],
   "source": [
    "# 가져올 떄\n",
    "train_df=pd.read_csv('human_act_train_vid.csv')\n",
    "valid_df=pd.read_csv('human_act_valid_vid.csv')"
   ]
  },
  {
   "cell_type": "code",
   "execution_count": 4,
   "metadata": {},
   "outputs": [],
   "source": [
    "import os\n",
    "os.mkdir('human_act_skeleton_npy')\n",
    "os.mkdir('human_act_skeleton_npy/train')\n",
    "os.mkdir('human_act_skeleton_npy/valid')"
   ]
  },
  {
   "cell_type": "code",
   "execution_count": 5,
   "metadata": {},
   "outputs": [
    {
     "name": "stderr",
     "output_type": "stream",
     "text": [
      "100%|██████████| 861/861 [2:21:40<00:00,  9.87s/it]  \n"
     ]
    }
   ],
   "source": [
    "# for train npy\n",
    "max_frames = 100\n",
    "SAVE_DIR = 'human_act_skeleton_npy/'\n",
    "\n",
    "with mp_pose.Pose( min_detection_confidence=0.5, min_tracking_confidence=0.5) as pose:\n",
    "    all_video_train_pose = []\n",
    "    for i, elem in tqdm(train_df.iterrows() , total = len(train_df)):\n",
    "        cap = cv2.VideoCapture(\n",
    "        elem['file_path'] \n",
    "        )\n",
    "\n",
    "        # all skeleton landmark가 다 담긴다 \n",
    "        video_skeleton=[]\n",
    "        while True:\n",
    "            ret, frame  = cap.read()\n",
    "            if not ret:\n",
    "                break\n",
    "            frame, results =mediapipe_detection(frame,pose)\n",
    "\n",
    "            # results가 존재한다면 -> landmark를 넣는다. (NoneType error를 막기 위한 코드!)\n",
    "            if results.pose_landmarks is not None:\n",
    "                video_skeleton.append(extract_keypoints(results))\n",
    "        \n",
    "        label = elem['label']\n",
    "\n",
    "        video_skeleton = np.array(video_skeleton[-max_frames:])\n",
    "        file_name = SAVE_DIR+f'/train/{label}_{i}.npy'\n",
    "        np.save(file_name, video_skeleton)\n",
    "        \n"
   ]
  },
  {
   "cell_type": "code",
   "execution_count": 6,
   "metadata": {},
   "outputs": [
    {
     "name": "stdout",
     "output_type": "stream",
     "text": [
      "861\n"
     ]
    }
   ],
   "source": [
    "from glob import glob\n",
    "print(len(glob(SAVE_DIR+'/train/*'))) "
   ]
  },
  {
   "cell_type": "code",
   "execution_count": 7,
   "metadata": {},
   "outputs": [
    {
     "name": "stderr",
     "output_type": "stream",
     "text": [
      "100%|██████████| 306/306 [49:08<00:00,  9.64s/it] \n"
     ]
    }
   ],
   "source": [
    "# for valid npy\n",
    "max_frames = 100\n",
    "SAVE_DIR = 'human_act_skeleton_npy/'\n",
    "\n",
    "with mp_pose.Pose( min_detection_confidence=0.5, min_tracking_confidence=0.5) as pose:\n",
    "    \n",
    "    for i, elem in tqdm(valid_df.iterrows() , total = len(valid_df)):\n",
    "        cap = cv2.VideoCapture(\n",
    "        elem['file_path'] \n",
    "        )\n",
    "\n",
    "        # all skeleton landmark가 다 담긴다 \n",
    "        video_skeleton=[]\n",
    "        while True:\n",
    "            ret, frame  = cap.read()\n",
    "            if not ret:\n",
    "                break\n",
    "            frame, results =mediapipe_detection(frame,pose)\n",
    "\n",
    "            # results가 존재한다면 -> landmark를 넣는다. (NoneType error를 막기 위한 코드!)\n",
    "            if results.pose_landmarks is not None:\n",
    "                video_skeleton.append(extract_keypoints(results))\n",
    "        \n",
    "        label = elem['label']\n",
    "        \n",
    "        video_skeleton = np.array(video_skeleton[-max_frames:])\n",
    "        file_name = SAVE_DIR+f'/valid/{label}_{i}.npy'\n",
    "        np.save(file_name, video_skeleton)\n",
    "        "
   ]
  },
  {
   "cell_type": "code",
   "execution_count": 8,
   "metadata": {},
   "outputs": [
    {
     "name": "stdout",
     "output_type": "stream",
     "text": [
      "306\n"
     ]
    }
   ],
   "source": [
    "print(len(glob(SAVE_DIR+'/valid/*'))) "
   ]
  },
  {
   "cell_type": "code",
   "execution_count": 14,
   "metadata": {},
   "outputs": [
    {
     "name": "stdout",
     "output_type": "stream",
     "text": [
      "['human_act_skeleton_npy/valid\\\\fall_10.npy', 'human_act_skeleton_npy/valid\\\\fall_32.npy', 'human_act_skeleton_npy/valid\\\\fall_34.npy', 'human_act_skeleton_npy/valid\\\\fall_38.npy']\n"
     ]
    }
   ],
   "source": [
    "\n",
    "import numpy as np\n",
    "from glob import glob\n",
    "mode = 'valid'\n",
    "data= glob(\n",
    "            f'human_act_skeleton_npy/{mode}/*.npy'\n",
    "        )\n",
    "\n",
    "cnt=[]\n",
    "for i in data:\n",
    "    tmp = np.load(i)\n",
    "    if(tmp.shape[0] !=100) or len(tmp.shape)!=2:\n",
    "        cnt.append(i)\n",
    "\n",
    "print(cnt)"
   ]
  },
  {
   "cell_type": "code",
   "execution_count": 15,
   "metadata": {},
   "outputs": [
    {
     "data": {
      "text/plain": [
       "306"
      ]
     },
     "execution_count": 15,
     "metadata": {},
     "output_type": "execute_result"
    }
   ],
   "source": [
    "len(data)"
   ]
  },
  {
   "cell_type": "code",
   "execution_count": 16,
   "metadata": {},
   "outputs": [
    {
     "name": "stdout",
     "output_type": "stream",
     "text": [
      "human_act_skeleton_npy/valid/fall_10.npy\n",
      "ok\n",
      "human_act_skeleton_npy/valid/fall_32.npy\n",
      "ok\n",
      "human_act_skeleton_npy/valid/fall_34.npy\n",
      "ok\n",
      "human_act_skeleton_npy/valid/fall_38.npy\n",
      "ok\n"
     ]
    },
    {
     "data": {
      "text/plain": [
       "302"
      ]
     },
     "execution_count": 16,
     "metadata": {},
     "output_type": "execute_result"
    }
   ],
   "source": [
    "import os\n",
    "\n",
    "for i in cnt:\n",
    "    dir_path = f'human_act_skeleton_npy/{mode}'\n",
    "    tmp =dir_path+\"/\" +i.split('\\\\')[1]\n",
    "    # os.remove()\n",
    "    print(tmp)\n",
    "    if os.path.isfile(tmp):\n",
    "        os.remove(tmp)\n",
    "        print(\"ok\")\n",
    "        \n",
    "data= glob(\n",
    "    \n",
    "            f'human_act_skeleton_npy/{mode}/*.npy'\n",
    "\n",
    "    )\n",
    "len(data)"
   ]
  },
  {
   "cell_type": "code",
   "execution_count": 20,
   "metadata": {},
   "outputs": [
    {
     "data": {
      "text/plain": [
       "215"
      ]
     },
     "execution_count": 20,
     "metadata": {},
     "output_type": "execute_result"
    }
   ],
   "source": []
  }
 ],
 "metadata": {
  "kernelspec": {
   "display_name": "Python 3.7.13 ('py37tf22')",
   "language": "python",
   "name": "python3"
  },
  "language_info": {
   "codemirror_mode": {
    "name": "ipython",
    "version": 3
   },
   "file_extension": ".py",
   "mimetype": "text/x-python",
   "name": "python",
   "nbconvert_exporter": "python",
   "pygments_lexer": "ipython3",
   "version": "3.7.13"
  },
  "orig_nbformat": 4,
  "vscode": {
   "interpreter": {
    "hash": "d52d4213356a2fc2a13155a55a628566fbf637a8c2024b1b77d8046ed6cd1012"
   }
  }
 },
 "nbformat": 4,
 "nbformat_minor": 2
}
